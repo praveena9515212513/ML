{
 "cells": [
  {
   "cell_type": "code",
   "execution_count": 56,
   "id": "f1ca3344",
   "metadata": {
    "scrolled": true
   },
   "outputs": [
    {
     "data": {
      "text/html": [
       "<div>\n",
       "<style scoped>\n",
       "    .dataframe tbody tr th:only-of-type {\n",
       "        vertical-align: middle;\n",
       "    }\n",
       "\n",
       "    .dataframe tbody tr th {\n",
       "        vertical-align: top;\n",
       "    }\n",
       "\n",
       "    .dataframe thead th {\n",
       "        text-align: right;\n",
       "    }\n",
       "</style>\n",
       "<table border=\"1\" class=\"dataframe\">\n",
       "  <thead>\n",
       "    <tr style=\"text-align: right;\">\n",
       "      <th></th>\n",
       "      <th>Message</th>\n",
       "      <th>label</th>\n",
       "    </tr>\n",
       "  </thead>\n",
       "  <tbody>\n",
       "    <tr>\n",
       "      <th>0</th>\n",
       "      <td>I love this sandwich</td>\n",
       "      <td>pos</td>\n",
       "    </tr>\n",
       "    <tr>\n",
       "      <th>1</th>\n",
       "      <td>This is an amazing place</td>\n",
       "      <td>pos</td>\n",
       "    </tr>\n",
       "    <tr>\n",
       "      <th>2</th>\n",
       "      <td>I feel very good about beers</td>\n",
       "      <td>pos</td>\n",
       "    </tr>\n",
       "    <tr>\n",
       "      <th>3</th>\n",
       "      <td>This is my best work</td>\n",
       "      <td>pos</td>\n",
       "    </tr>\n",
       "    <tr>\n",
       "      <th>4</th>\n",
       "      <td>What an awesome view</td>\n",
       "      <td>pos</td>\n",
       "    </tr>\n",
       "    <tr>\n",
       "      <th>5</th>\n",
       "      <td>I do not like this restaurant</td>\n",
       "      <td>neg</td>\n",
       "    </tr>\n",
       "    <tr>\n",
       "      <th>6</th>\n",
       "      <td>I am tired of this stuff</td>\n",
       "      <td>neg</td>\n",
       "    </tr>\n",
       "    <tr>\n",
       "      <th>7</th>\n",
       "      <td>I can't deal with this</td>\n",
       "      <td>neg</td>\n",
       "    </tr>\n",
       "    <tr>\n",
       "      <th>8</th>\n",
       "      <td>He is my sworn enemy</td>\n",
       "      <td>neg</td>\n",
       "    </tr>\n",
       "    <tr>\n",
       "      <th>9</th>\n",
       "      <td>My boss is horrible</td>\n",
       "      <td>neg</td>\n",
       "    </tr>\n",
       "    <tr>\n",
       "      <th>10</th>\n",
       "      <td>This is an awesome place</td>\n",
       "      <td>pos</td>\n",
       "    </tr>\n",
       "    <tr>\n",
       "      <th>11</th>\n",
       "      <td>I do not like the taste of this juice</td>\n",
       "      <td>neg</td>\n",
       "    </tr>\n",
       "    <tr>\n",
       "      <th>12</th>\n",
       "      <td>I love to dance</td>\n",
       "      <td>pos</td>\n",
       "    </tr>\n",
       "    <tr>\n",
       "      <th>13</th>\n",
       "      <td>I am sick and tired of this place</td>\n",
       "      <td>neg</td>\n",
       "    </tr>\n",
       "    <tr>\n",
       "      <th>14</th>\n",
       "      <td>What a great holiday</td>\n",
       "      <td>pos</td>\n",
       "    </tr>\n",
       "    <tr>\n",
       "      <th>15</th>\n",
       "      <td>That is a bad locality to stay</td>\n",
       "      <td>neg</td>\n",
       "    </tr>\n",
       "    <tr>\n",
       "      <th>16</th>\n",
       "      <td>We will have good fun tomorrow</td>\n",
       "      <td>pos</td>\n",
       "    </tr>\n",
       "    <tr>\n",
       "      <th>17</th>\n",
       "      <td>I went to my enemy's house today</td>\n",
       "      <td>neg</td>\n",
       "    </tr>\n",
       "  </tbody>\n",
       "</table>\n",
       "</div>"
      ],
      "text/plain": [
       "                                  Message label\n",
       "0                    I love this sandwich   pos\n",
       "1                This is an amazing place   pos\n",
       "2            I feel very good about beers   pos\n",
       "3                    This is my best work   pos\n",
       "4                    What an awesome view   pos\n",
       "5           I do not like this restaurant   neg\n",
       "6                I am tired of this stuff   neg\n",
       "7                  I can't deal with this   neg\n",
       "8                    He is my sworn enemy   neg\n",
       "9                     My boss is horrible   neg\n",
       "10               This is an awesome place   pos\n",
       "11  I do not like the taste of this juice   neg\n",
       "12                        I love to dance   pos\n",
       "13      I am sick and tired of this place   neg\n",
       "14                   What a great holiday   pos\n",
       "15         That is a bad locality to stay   neg\n",
       "16         We will have good fun tomorrow   pos\n",
       "17       I went to my enemy's house today   neg"
      ]
     },
     "execution_count": 56,
     "metadata": {},
     "output_type": "execute_result"
    }
   ],
   "source": [
    "import pandas as pd\n",
    "import numpy as np\n",
    "df = pd.read_csv('navietext.csv')\n",
    "df"
   ]
  },
  {
   "cell_type": "code",
   "execution_count": 84,
   "id": "caa95f7c",
   "metadata": {},
   "outputs": [
    {
     "name": "stderr",
     "output_type": "stream",
     "text": [
      "C:\\Users\\y20cs19\\AppData\\Local\\Temp/ipykernel_9624/638783201.py:3: FutureWarning: The default value of regex will change from True to False in a future version. In addition, single character regular expressions will *not* be treated as literal strings when regex=True.\n",
      "  df['Message']=df['Message'].str.replace(i,'')\n"
     ]
    }
   ],
   "source": [
    "punc = ['.',',','?','!',\"'\"]\n",
    "for i in punc:\n",
    "    df['Message']=df['Message'].str.replace(i,'')\n",
    "    df['Message']=df['Message'].str.lower()"
   ]
  },
  {
   "cell_type": "code",
   "execution_count": 85,
   "id": "986a7e83",
   "metadata": {
    "collapsed": true
   },
   "outputs": [
    {
     "data": {
      "text/html": [
       "<div>\n",
       "<style scoped>\n",
       "    .dataframe tbody tr th:only-of-type {\n",
       "        vertical-align: middle;\n",
       "    }\n",
       "\n",
       "    .dataframe tbody tr th {\n",
       "        vertical-align: top;\n",
       "    }\n",
       "\n",
       "    .dataframe thead th {\n",
       "        text-align: right;\n",
       "    }\n",
       "</style>\n",
       "<table border=\"1\" class=\"dataframe\">\n",
       "  <thead>\n",
       "    <tr style=\"text-align: right;\">\n",
       "      <th></th>\n",
       "      <th>Message</th>\n",
       "      <th>label</th>\n",
       "    </tr>\n",
       "  </thead>\n",
       "  <tbody>\n",
       "    <tr>\n",
       "      <th>0</th>\n",
       "      <td>i love this sandwich</td>\n",
       "      <td>pos</td>\n",
       "    </tr>\n",
       "    <tr>\n",
       "      <th>1</th>\n",
       "      <td>this is an amazing place</td>\n",
       "      <td>pos</td>\n",
       "    </tr>\n",
       "    <tr>\n",
       "      <th>2</th>\n",
       "      <td>i feel very good about beers</td>\n",
       "      <td>pos</td>\n",
       "    </tr>\n",
       "    <tr>\n",
       "      <th>3</th>\n",
       "      <td>this is my best work</td>\n",
       "      <td>pos</td>\n",
       "    </tr>\n",
       "    <tr>\n",
       "      <th>4</th>\n",
       "      <td>what an awesome view</td>\n",
       "      <td>pos</td>\n",
       "    </tr>\n",
       "    <tr>\n",
       "      <th>5</th>\n",
       "      <td>i do not like this restaurant</td>\n",
       "      <td>neg</td>\n",
       "    </tr>\n",
       "    <tr>\n",
       "      <th>6</th>\n",
       "      <td>i am tired of this stuff</td>\n",
       "      <td>neg</td>\n",
       "    </tr>\n",
       "    <tr>\n",
       "      <th>7</th>\n",
       "      <td>i cant deal with this</td>\n",
       "      <td>neg</td>\n",
       "    </tr>\n",
       "    <tr>\n",
       "      <th>8</th>\n",
       "      <td>he is my sworn enemy</td>\n",
       "      <td>neg</td>\n",
       "    </tr>\n",
       "    <tr>\n",
       "      <th>9</th>\n",
       "      <td>my boss is horrible</td>\n",
       "      <td>neg</td>\n",
       "    </tr>\n",
       "    <tr>\n",
       "      <th>10</th>\n",
       "      <td>this is an awesome place</td>\n",
       "      <td>pos</td>\n",
       "    </tr>\n",
       "    <tr>\n",
       "      <th>11</th>\n",
       "      <td>i do not like the taste of this juice</td>\n",
       "      <td>neg</td>\n",
       "    </tr>\n",
       "    <tr>\n",
       "      <th>12</th>\n",
       "      <td>i love to dance</td>\n",
       "      <td>pos</td>\n",
       "    </tr>\n",
       "    <tr>\n",
       "      <th>13</th>\n",
       "      <td>i am sick and tired of this place</td>\n",
       "      <td>neg</td>\n",
       "    </tr>\n",
       "    <tr>\n",
       "      <th>14</th>\n",
       "      <td>what a great holiday</td>\n",
       "      <td>pos</td>\n",
       "    </tr>\n",
       "    <tr>\n",
       "      <th>15</th>\n",
       "      <td>that is a bad locality to stay</td>\n",
       "      <td>neg</td>\n",
       "    </tr>\n",
       "    <tr>\n",
       "      <th>16</th>\n",
       "      <td>we will have good fun tomorrow</td>\n",
       "      <td>pos</td>\n",
       "    </tr>\n",
       "    <tr>\n",
       "      <th>17</th>\n",
       "      <td>i went to my enemys house today</td>\n",
       "      <td>neg</td>\n",
       "    </tr>\n",
       "  </tbody>\n",
       "</table>\n",
       "</div>"
      ],
      "text/plain": [
       "                                  Message label\n",
       "0                    i love this sandwich   pos\n",
       "1                this is an amazing place   pos\n",
       "2            i feel very good about beers   pos\n",
       "3                    this is my best work   pos\n",
       "4                    what an awesome view   pos\n",
       "5           i do not like this restaurant   neg\n",
       "6                i am tired of this stuff   neg\n",
       "7                   i cant deal with this   neg\n",
       "8                    he is my sworn enemy   neg\n",
       "9                     my boss is horrible   neg\n",
       "10               this is an awesome place   pos\n",
       "11  i do not like the taste of this juice   neg\n",
       "12                        i love to dance   pos\n",
       "13      i am sick and tired of this place   neg\n",
       "14                   what a great holiday   pos\n",
       "15         that is a bad locality to stay   neg\n",
       "16         we will have good fun tomorrow   pos\n",
       "17        i went to my enemys house today   neg"
      ]
     },
     "execution_count": 85,
     "metadata": {},
     "output_type": "execute_result"
    }
   ],
   "source": [
    "df"
   ]
  },
  {
   "cell_type": "code",
   "execution_count": 86,
   "id": "52b1b7bf",
   "metadata": {
    "collapsed": true
   },
   "outputs": [
    {
     "data": {
      "text/html": [
       "<div>\n",
       "<style scoped>\n",
       "    .dataframe tbody tr th:only-of-type {\n",
       "        vertical-align: middle;\n",
       "    }\n",
       "\n",
       "    .dataframe tbody tr th {\n",
       "        vertical-align: top;\n",
       "    }\n",
       "\n",
       "    .dataframe thead th {\n",
       "        text-align: right;\n",
       "    }\n",
       "</style>\n",
       "<table border=\"1\" class=\"dataframe\">\n",
       "  <thead>\n",
       "    <tr style=\"text-align: right;\">\n",
       "      <th></th>\n",
       "      <th>Message</th>\n",
       "      <th>label</th>\n",
       "    </tr>\n",
       "  </thead>\n",
       "  <tbody>\n",
       "    <tr>\n",
       "      <th>0</th>\n",
       "      <td>i love this sandwich</td>\n",
       "      <td>pos</td>\n",
       "    </tr>\n",
       "    <tr>\n",
       "      <th>1</th>\n",
       "      <td>this is an amazing place</td>\n",
       "      <td>pos</td>\n",
       "    </tr>\n",
       "    <tr>\n",
       "      <th>2</th>\n",
       "      <td>i feel very good about beers</td>\n",
       "      <td>pos</td>\n",
       "    </tr>\n",
       "    <tr>\n",
       "      <th>3</th>\n",
       "      <td>this is my best work</td>\n",
       "      <td>pos</td>\n",
       "    </tr>\n",
       "    <tr>\n",
       "      <th>4</th>\n",
       "      <td>what an awesome view</td>\n",
       "      <td>pos</td>\n",
       "    </tr>\n",
       "    <tr>\n",
       "      <th>5</th>\n",
       "      <td>i do not like this restaurant</td>\n",
       "      <td>neg</td>\n",
       "    </tr>\n",
       "    <tr>\n",
       "      <th>6</th>\n",
       "      <td>i am tired of this stuff</td>\n",
       "      <td>neg</td>\n",
       "    </tr>\n",
       "    <tr>\n",
       "      <th>7</th>\n",
       "      <td>i cant deal with this</td>\n",
       "      <td>neg</td>\n",
       "    </tr>\n",
       "    <tr>\n",
       "      <th>8</th>\n",
       "      <td>he is my sworn enemy</td>\n",
       "      <td>neg</td>\n",
       "    </tr>\n",
       "    <tr>\n",
       "      <th>9</th>\n",
       "      <td>my boss is horrible</td>\n",
       "      <td>neg</td>\n",
       "    </tr>\n",
       "    <tr>\n",
       "      <th>10</th>\n",
       "      <td>this is an awesome place</td>\n",
       "      <td>pos</td>\n",
       "    </tr>\n",
       "    <tr>\n",
       "      <th>11</th>\n",
       "      <td>i do not like the taste of this juice</td>\n",
       "      <td>neg</td>\n",
       "    </tr>\n",
       "    <tr>\n",
       "      <th>12</th>\n",
       "      <td>i love to dance</td>\n",
       "      <td>pos</td>\n",
       "    </tr>\n",
       "    <tr>\n",
       "      <th>13</th>\n",
       "      <td>i am sick and tired of this place</td>\n",
       "      <td>neg</td>\n",
       "    </tr>\n",
       "  </tbody>\n",
       "</table>\n",
       "</div>"
      ],
      "text/plain": [
       "                                  Message label\n",
       "0                    i love this sandwich   pos\n",
       "1                this is an amazing place   pos\n",
       "2            i feel very good about beers   pos\n",
       "3                    this is my best work   pos\n",
       "4                    what an awesome view   pos\n",
       "5           i do not like this restaurant   neg\n",
       "6                i am tired of this stuff   neg\n",
       "7                   i cant deal with this   neg\n",
       "8                    he is my sworn enemy   neg\n",
       "9                     my boss is horrible   neg\n",
       "10               this is an awesome place   pos\n",
       "11  i do not like the taste of this juice   neg\n",
       "12                        i love to dance   pos\n",
       "13      i am sick and tired of this place   neg"
      ]
     },
     "execution_count": 86,
     "metadata": {},
     "output_type": "execute_result"
    }
   ],
   "source": [
    "df_train=df[:14]\n",
    "df_test=df[14:]\n",
    "df_train"
   ]
  },
  {
   "cell_type": "code",
   "execution_count": 87,
   "id": "06b5eaee",
   "metadata": {},
   "outputs": [],
   "source": [
    "m=df_train.shape[0]\n",
    "vocab=[]\n",
    "positive_vocab=[]\n",
    "negative_vocab=[]\n",
    "for i in range(0,m):\n",
    "    if(df_train.loc[i]['label']=='pos'):\n",
    "        positive_vocab.extend(df_train.loc[i]['Message'].split())\n",
    "    elif(df_train.loc[i]['label']=='neg'):\n",
    "        negative_vocab.extend(df_train.loc[i]['Message'].split())\n",
    "    p=df_train.loc[i]['Message'].split()\n",
    "    for j in range(len(p)):\n",
    "        if p[j] not in vocab:\n",
    "            vocab.append(p[j])"
   ]
  },
  {
   "cell_type": "code",
   "execution_count": 88,
   "id": "2ed90826",
   "metadata": {},
   "outputs": [
    {
     "name": "stdout",
     "output_type": "stream",
     "text": [
      "33\n",
      "43\n",
      "42\n"
     ]
    }
   ],
   "source": [
    "print(len(positive_vocab))\n",
    "print(len(negative_vocab))\n",
    "print(len(vocab))"
   ]
  },
  {
   "cell_type": "code",
   "execution_count": 89,
   "id": "9a509f52",
   "metadata": {},
   "outputs": [],
   "source": [
    "d={}\n",
    "for i in range(len(vocab)):\n",
    "    p=(positive_vocab.count(vocab[i])+1)/(len(positive_vocab)+len(vocab))\n",
    "    n=(negative_vocab.count(vocab[i])+1)/(len(negative_vocab)+len(vocab))\n",
    "    d.update({vocab[i]:[p,n]})"
   ]
  },
  {
   "cell_type": "code",
   "execution_count": 90,
   "id": "3c708242",
   "metadata": {
    "collapsed": true
   },
   "outputs": [
    {
     "data": {
      "text/plain": [
       "{'i': [0.05333333333333334, 0.07058823529411765],\n",
       " 'love': [0.04, 0.011764705882352941],\n",
       " 'this': [0.06666666666666667, 0.07058823529411765],\n",
       " 'sandwich': [0.02666666666666667, 0.011764705882352941],\n",
       " 'is': [0.05333333333333334, 0.03529411764705882],\n",
       " 'an': [0.05333333333333334, 0.011764705882352941],\n",
       " 'amazing': [0.02666666666666667, 0.011764705882352941],\n",
       " 'place': [0.04, 0.023529411764705882],\n",
       " 'feel': [0.02666666666666667, 0.011764705882352941],\n",
       " 'very': [0.02666666666666667, 0.011764705882352941],\n",
       " 'good': [0.02666666666666667, 0.011764705882352941],\n",
       " 'about': [0.02666666666666667, 0.011764705882352941],\n",
       " 'beers': [0.02666666666666667, 0.011764705882352941],\n",
       " 'my': [0.02666666666666667, 0.03529411764705882],\n",
       " 'best': [0.02666666666666667, 0.011764705882352941],\n",
       " 'work': [0.02666666666666667, 0.011764705882352941],\n",
       " 'what': [0.02666666666666667, 0.011764705882352941],\n",
       " 'awesome': [0.04, 0.011764705882352941],\n",
       " 'view': [0.02666666666666667, 0.011764705882352941],\n",
       " 'do': [0.013333333333333334, 0.03529411764705882],\n",
       " 'not': [0.013333333333333334, 0.03529411764705882],\n",
       " 'like': [0.013333333333333334, 0.03529411764705882],\n",
       " 'restaurant': [0.013333333333333334, 0.023529411764705882],\n",
       " 'am': [0.013333333333333334, 0.03529411764705882],\n",
       " 'tired': [0.013333333333333334, 0.03529411764705882],\n",
       " 'of': [0.013333333333333334, 0.047058823529411764],\n",
       " 'stuff': [0.013333333333333334, 0.023529411764705882],\n",
       " 'cant': [0.013333333333333334, 0.023529411764705882],\n",
       " 'deal': [0.013333333333333334, 0.023529411764705882],\n",
       " 'with': [0.013333333333333334, 0.023529411764705882],\n",
       " 'he': [0.013333333333333334, 0.023529411764705882],\n",
       " 'sworn': [0.013333333333333334, 0.023529411764705882],\n",
       " 'enemy': [0.013333333333333334, 0.023529411764705882],\n",
       " 'boss': [0.013333333333333334, 0.023529411764705882],\n",
       " 'horrible': [0.013333333333333334, 0.023529411764705882],\n",
       " 'the': [0.013333333333333334, 0.023529411764705882],\n",
       " 'taste': [0.013333333333333334, 0.023529411764705882],\n",
       " 'juice': [0.013333333333333334, 0.023529411764705882],\n",
       " 'to': [0.02666666666666667, 0.011764705882352941],\n",
       " 'dance': [0.02666666666666667, 0.011764705882352941],\n",
       " 'sick': [0.013333333333333334, 0.023529411764705882],\n",
       " 'and': [0.013333333333333334, 0.023529411764705882]}"
      ]
     },
     "execution_count": 90,
     "metadata": {},
     "output_type": "execute_result"
    }
   ],
   "source": [
    "d"
   ]
  },
  {
   "cell_type": "code",
   "execution_count": 74,
   "id": "bc150eff",
   "metadata": {
    "scrolled": true
   },
   "outputs": [
    {
     "data": {
      "text/plain": [
       "array([['what a great holiday', 'pos'],\n",
       "       ['that is a bad locality to stay', 'neg'],\n",
       "       ['we will have good fun tomorrow', 'pos'],\n",
       "       [\"i went to my enemy's house today\", 'neg']], dtype=object)"
      ]
     },
     "execution_count": 74,
     "metadata": {},
     "output_type": "execute_result"
    }
   ],
   "source": [
    "df_test = np.array(df_test)\n",
    "df_test"
   ]
  },
  {
   "cell_type": "code",
   "execution_count": 75,
   "id": "51154285",
   "metadata": {},
   "outputs": [
    {
     "data": {
      "text/plain": [
       "array(['pos', 'neg', 'pos', 'neg'], dtype=object)"
      ]
     },
     "execution_count": 75,
     "metadata": {},
     "output_type": "execute_result"
    }
   ],
   "source": [
    "actual_label=df_test[:,-1]\n",
    "actual_label"
   ]
  },
  {
   "cell_type": "code",
   "execution_count": 108,
   "id": "9086a6be",
   "metadata": {},
   "outputs": [],
   "source": [
    "df_test\n",
    "a=np.array(df_test)\n",
    "a=a[:,-2]"
   ]
  },
  {
   "cell_type": "code",
   "execution_count": 109,
   "id": "0c56e77c",
   "metadata": {
    "scrolled": true
   },
   "outputs": [
    {
     "data": {
      "text/plain": [
       "['pos', 'pos', 'pos', 'pos']"
      ]
     },
     "execution_count": 109,
     "metadata": {},
     "output_type": "execute_result"
    }
   ],
   "source": [
    "predicted_label=[]\n",
    "for text in a:\n",
    "    prob_positive=df_test[df_test['label']=='pos'].shape[0]/df_test.shape[0]\n",
    "    prob_negative=df_test[df_test['label']=='neg'].shape[0]/df_test.shape[0]\n",
    "    for i in text:\n",
    "        prob_positive *= (positive_vocab.count(i)+1)/(len(positive_vocab)+len(vocab))\n",
    "        prob_negative *= (negative_vocab.count(i)+1)/(len(negative_vocab)+len(vocab))\n",
    "    if(prob_positive>prob_negative):\n",
    "        predicted_label.append('pos')\n",
    "    else:\n",
    "        predicted_label.append('neg')\n",
    "predicted_label"
   ]
  },
  {
   "cell_type": "code",
   "execution_count": 110,
   "id": "e403df46",
   "metadata": {},
   "outputs": [
    {
     "data": {
      "text/plain": [
       "0.5"
      ]
     },
     "execution_count": 110,
     "metadata": {},
     "output_type": "execute_result"
    }
   ],
   "source": [
    "from sklearn.metrics import confusion_matrix\n",
    "ac = confusion_matrix(actual_label,predicted_label)\n",
    "accuracy = (ac[0][0]+ac[1][1])/(ac[0][0]+ac[0][1]+ac[1][0]+ac[1][1])\n",
    "accuracy"
   ]
  },
  {
   "cell_type": "code",
   "execution_count": 51,
   "id": "dc2f2980",
   "metadata": {},
   "outputs": [
    {
     "data": {
      "text/plain": [
       "0.5"
      ]
     },
     "execution_count": 51,
     "metadata": {},
     "output_type": "execute_result"
    }
   ],
   "source": [
    "precis=(ac[1][1])/(ac[1][1]+ac[0][1])\n",
    "precis"
   ]
  },
  {
   "cell_type": "code",
   "execution_count": 52,
   "id": "c2fd892b",
   "metadata": {},
   "outputs": [
    {
     "data": {
      "text/plain": [
       "1.0"
      ]
     },
     "execution_count": 52,
     "metadata": {},
     "output_type": "execute_result"
    }
   ],
   "source": [
    "recal=(ac[1][1])/(ac[1][1]+ac[1][0])\n",
    "recal"
   ]
  }
 ],
 "metadata": {
  "kernelspec": {
   "display_name": "Python 3 (ipykernel)",
   "language": "python",
   "name": "python3"
  },
  "language_info": {
   "codemirror_mode": {
    "name": "ipython",
    "version": 3
   },
   "file_extension": ".py",
   "mimetype": "text/x-python",
   "name": "python",
   "nbconvert_exporter": "python",
   "pygments_lexer": "ipython3",
   "version": "3.9.7"
  }
 },
 "nbformat": 4,
 "nbformat_minor": 5
}
