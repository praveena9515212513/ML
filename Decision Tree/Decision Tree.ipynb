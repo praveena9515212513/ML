{
 "cells": [
  {
   "cell_type": "code",
   "execution_count": 4,
   "id": "329eb8e9",
   "metadata": {},
   "outputs": [],
   "source": [
    "import pandas as pd\n",
    "import math"
   ]
  },
  {
   "cell_type": "code",
   "execution_count": 23,
   "id": "5d29481a",
   "metadata": {},
   "outputs": [],
   "source": [
    "class decision:\n",
    "    def __init__(self):\n",
    "        self.left = None\n",
    "        self.right = None\n",
    "        self.data = None\n",
    "    \n",
    "    def ig(self,i,S,df):\n",
    "        df1 = df[df[i]=='YES']\n",
    "        df2 = df[df[i]=='NO']\n",
    "        n1=df1[df1[target]=='YES'].shape[0]\n",
    "        n2=df1[df1[target]=='NO'].shape[0]\n",
    "        if n1 and n2:\n",
    "            s1 = -1*((df1[df1[target]=='YES'].shape[0])/(df1.shape[0]))*math.log2(((df1[df1[target]=='YES'].shape[0])/(df1.shape[0])))-1*((df1[df1[target]=='NO'].shape[0])/(df1.shape[0]))*math.log2(((df1[df1[target]=='NO'].shape[0])/(df1.shape[0])))\n",
    "        else:\n",
    "            s1=0\n",
    "        n1=df2[df2[target]=='YES'].shape[0]\n",
    "        n2=df2[df2[target]=='NO'].shape[0]\n",
    "        if n1 and n2:\n",
    "            s2 = -1*((df2[df2[target]=='YES'].shape[0])/(df2.shape[0]))*math.log2(((df2[df2[target]=='YES'].shape[0])/(df2.shape[0])))-1*((df2[df2[target]=='NO'].shape[0])/(df2.shape[0]))*math.log2(((df2[df2[target]=='NO'].shape[0])/(df2.shape[0])))\n",
    "        else:\n",
    "            s2=0\n",
    "        return S-(df1.shape[0]/df.shape[0])*s1-(df2.shape[0]/df.shape[0])*s2\n",
    "   \n",
    "    def selectnode(self,df):\n",
    "#         print(df)\n",
    "        col=list(df.columns)\n",
    "        target = col.pop()\n",
    "        n1=df[df[target]=='YES'].shape[0]\n",
    "        n2=df[df[target]=='NO'].shape[0]\n",
    "        if n1 and n2:\n",
    "            S = -1*((df[df['Infected']=='YES'].shape[0])/(df.shape[0]))*math.log2(((df[df['Infected']=='YES'].shape[0])/(df.shape[0])))-1*((df[df['Infected']=='NO'].shape[0])/(df.shape[0]))*math.log2(((df[df['Infected']=='NO'].shape[0])/(df.shape[0])))\n",
    "            IG=[]\n",
    "            for i in col:\n",
    "                if i not in visited:\n",
    "                    s=self.ig(i,S,df)\n",
    "                    IG.append(round(s,2))\n",
    "            print(IG)\n",
    "            self.data= col[IG.index(max(IG))]\n",
    "            print(self.data)\n",
    "            visited.append(self.data)\n",
    "            n1=df[df[self.data]=='YES'].shape[0]\n",
    "            print(n1)\n",
    "            if n1 == df.shape[0]:\n",
    "                visited.append('Infected')\n",
    "                return 'Infected'\n",
    "            elif n1:\n",
    "                self.left=self.selectnode(df[df[self.data]=='YES'])\n",
    "                \n",
    "            n2=df[df[self.data]=='NO'].shape[0]\n",
    "            print(n2)\n",
    "            \n",
    "            if n2==df.shape[0]:\n",
    "                visited.append('Not infected')\n",
    "                return 'Not Infected'\n",
    "            elif n2:\n",
    "                self.right=self.selectnode(df[df[self.data]=='NO'])\n",
    "#             else:\n",
    "#                 visited.append('Not Infected')\n",
    "#                 return 'Not Infected'\n",
    "        elif n2==0:\n",
    "            visited.append('Infected')\n",
    "            return 'Infected'\n",
    "        else:\n",
    "            visited.append('Not Infected')\n",
    "            return 'Not Infected'"
   ]
  },
  {
   "cell_type": "code",
   "execution_count": 24,
   "id": "9b319026",
   "metadata": {
    "scrolled": true
   },
   "outputs": [
    {
     "name": "stdout",
     "output_type": "stream",
     "text": [
      "[0.13, 0.04, 0.4]\n",
      "Breathing issues\n",
      "8\n",
      "[0.2, 0.09]\n",
      "Fever\n",
      "5\n",
      "3\n",
      "[0.0]\n",
      "Fever\n",
      "0\n",
      "3\n",
      "6\n",
      "[0.11]\n",
      "Fever\n",
      "0\n",
      "6\n"
     ]
    }
   ],
   "source": [
    "df = pd.read_csv('sample dataset of COVID-19.csv')\n",
    "df.set_index('ID',inplace=True)\n",
    "col = list(df.columns)\n",
    "target=col.pop()\n",
    "# S = -1*((df[df['Infected']=='YES'].shape[0])/(df.shape[0]))*math.log2(((df[df['Infected']=='YES'].shape[0])/(df.shape[0])))-1*((df[df['Infected']=='NO'].shape[0])/(df.shape[0]))*math.log2(((df[df['Infected']=='NO'].shape[0])/(df.shape[0])))\n",
    "visited=[]\n",
    "root = decision()\n",
    "root.selectnode(df)"
   ]
  },
  {
   "cell_type": "code",
   "execution_count": 22,
   "id": "978fb3eb",
   "metadata": {},
   "outputs": [
    {
     "data": {
      "text/plain": [
       "['Breathing issues',\n",
       " 'Fever',\n",
       " 'Infected',\n",
       " 'Fever',\n",
       " 'Not infected',\n",
       " 'Fever',\n",
       " 'Not infected']"
      ]
     },
     "execution_count": 22,
     "metadata": {},
     "output_type": "execute_result"
    }
   ],
   "source": [
    "visited"
   ]
  }
 ],
 "metadata": {
  "kernelspec": {
   "display_name": "Python 3 (ipykernel)",
   "language": "python",
   "name": "python3"
  },
  "language_info": {
   "codemirror_mode": {
    "name": "ipython",
    "version": 3
   },
   "file_extension": ".py",
   "mimetype": "text/x-python",
   "name": "python",
   "nbconvert_exporter": "python",
   "pygments_lexer": "ipython3",
   "version": "3.9.7"
  }
 },
 "nbformat": 4,
 "nbformat_minor": 5
}
