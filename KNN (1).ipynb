{
 "cells": [
  {
   "cell_type": "code",
   "execution_count": 120,
   "id": "7c310986",
   "metadata": {},
   "outputs": [],
   "source": [
    "from sklearn.model_selection import train_test_split\n",
    "from sklearn.neighbors import KNeighborsClassifier\n",
    "from sklearn import datasets\n",
    "from sklearn.metrics import classification_report,confusion_matrix"
   ]
  },
  {
   "cell_type": "code",
   "execution_count": 138,
   "id": "eda4d773",
   "metadata": {
    "collapsed": true
   },
   "outputs": [
    {
     "name": "stdout",
     "output_type": "stream",
     "text": [
      "sample [5.1 3.8 1.5 0.3]  Actual label  0  Predicted label  0\n",
      "sample [4.8 3.  1.4 0.3]  Actual label  0  Predicted label  0\n",
      "sample [6.4 3.2 5.3 2.3]  Actual label  2  Predicted label  2\n",
      "sample [4.8 3.4 1.6 0.2]  Actual label  0  Predicted label  0\n",
      "sample [6.8 2.8 4.8 1.4]  Actual label  1  Predicted label  1\n",
      "sample [4.9 3.1 1.5 0.2]  Actual label  0  Predicted label  0\n",
      "sample [5.2 4.1 1.5 0.1]  Actual label  0  Predicted label  0\n",
      "sample [5.  3.5 1.6 0.6]  Actual label  0  Predicted label  0\n",
      "sample [7.7 3.8 6.7 2.2]  Actual label  2  Predicted label  2\n",
      "sample [7.2 3.6 6.1 2.5]  Actual label  2  Predicted label  2\n",
      "sample [6.7 3.3 5.7 2.1]  Actual label  2  Predicted label  2\n",
      "sample [5.  3.4 1.6 0.4]  Actual label  0  Predicted label  0\n",
      "sample [5.  2.  3.5 1. ]  Actual label  1  Predicted label  1\n",
      "sample [5.8 2.8 5.1 2.4]  Actual label  2  Predicted label  2\n",
      "sample [6.3 3.3 4.7 1.6]  Actual label  1  Predicted label  1\n"
     ]
    }
   ],
   "source": [
    "iris=datasets.load_iris()\n",
    "x_train,x_test,y_train,y_test=train_test_split(iris.data,iris.target,test_size=0.1)\n",
    "classifier = KNeighborsClassifier(5)\n",
    "classifier.fit(x_train,y_train)\n",
    "y_pred=classifier.predict(x_test)\n",
    "for i in range(len(x_test)):\n",
    "    print(\"sample\",x_test[i],\" Actual label \",y_test[i],\" Predicted label \",y_pred[i])"
   ]
  },
  {
   "cell_type": "code",
   "execution_count": 146,
   "id": "045c3717",
   "metadata": {
    "collapsed": true
   },
   "outputs": [
    {
     "name": "stdout",
     "output_type": "stream",
     "text": [
      "confusion matrix [[7 0 0]\n",
      " [0 3 0]\n",
      " [0 0 5]]\n",
      "accuracy matrix               precision    recall  f1-score   support\n",
      "\n",
      "           0       1.00      1.00      1.00         7\n",
      "           1       1.00      1.00      1.00         3\n",
      "           2       1.00      1.00      1.00         5\n",
      "\n",
      "    accuracy                           1.00        15\n",
      "   macro avg       1.00      1.00      1.00        15\n",
      "weighted avg       1.00      1.00      1.00        15\n",
      "\n"
     ]
    }
   ],
   "source": [
    "print(\"confusion matrix\",confusion_matrix(y_test,y_pred))\n",
    "print(\"accuracy matrix\",classification_report(y_test,y_pred))"
   ]
  },
  {
   "cell_type": "code",
   "execution_count": null,
   "id": "5885adac",
   "metadata": {},
   "outputs": [],
   "source": []
  }
 ],
 "metadata": {
  "kernelspec": {
   "display_name": "Python 3 (ipykernel)",
   "language": "python",
   "name": "python3"
  },
  "language_info": {
   "codemirror_mode": {
    "name": "ipython",
    "version": 3
   },
   "file_extension": ".py",
   "mimetype": "text/x-python",
   "name": "python",
   "nbconvert_exporter": "python",
   "pygments_lexer": "ipython3",
   "version": "3.10.9"
  }
 },
 "nbformat": 4,
 "nbformat_minor": 5
}
