{
 "cells": [
  {
   "cell_type": "code",
   "execution_count": 1,
   "id": "b0f5472e",
   "metadata": {},
   "outputs": [
    {
     "name": "stdout",
     "output_type": "stream",
     "text": [
      "['Sunny', 'Warm', 'Normal', 'Strong', 'Warm', 'Same']\n",
      "['Sunny', 'Warm', 'High', 'Strong', 'Warm', 'Same']\n",
      "['Rainy', 'Cold', 'High', 'Strong', 'Warm', 'Change']\n",
      "['Sunny', 'Warm', 'High', 'Strong', 'Cool', 'Change']\n",
      "['Sunny', 'Warm', '?', 'Strong', '?', '?']\n"
     ]
    }
   ],
   "source": [
    "import pandas as pd\n",
    "import numpy as np\n",
    "df = pd.read_csv('sample.csv')\n",
    "df.shape\n",
    "df.set_index('Example',inplace=True)\n",
    "m=df.shape[0]\n",
    "n=df.shape[1]\n",
    "finds=['0','0','0','0','0','0']\n",
    "for i in range(1,m+1):\n",
    "    find=[df['Sky'][i],df['AirTemp'][i],df['Humidity'][i],df['Wind'][i],df['Water'][i],df['Forecast'][i]]\n",
    "    print(find)\n",
    "    if(df['EnjoySport'][i]=='Yes'):\n",
    "        for j in range(len(find)):\n",
    "            if(finds[j]!=find[j] and i==1):\n",
    "                finds[j]=find[j]\n",
    "            elif(finds[j]!=find[j]):\n",
    "                finds[j]='?'\n",
    "print(finds)\n"
   ]
  }
 ],
 "metadata": {
  "kernelspec": {
   "display_name": "Python 3 (ipykernel)",
   "language": "python",
   "name": "python3"
  },
  "language_info": {
   "codemirror_mode": {
    "name": "ipython",
    "version": 3
   },
   "file_extension": ".py",
   "mimetype": "text/x-python",
   "name": "python",
   "nbconvert_exporter": "python",
   "pygments_lexer": "ipython3",
   "version": "3.9.7"
  }
 },
 "nbformat": 4,
 "nbformat_minor": 5
}
