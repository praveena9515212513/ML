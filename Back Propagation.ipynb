{
 "cells": [
  {
   "cell_type": "code",
   "execution_count": 16,
   "id": "961487a6",
   "metadata": {},
   "outputs": [],
   "source": [
    "from random import random\n",
    "from math import exp\n",
    "def initialize_network(n_inputs, n_hidden, n_outputs):\n",
    "    network = list()\n",
    "    hidden_layer = [{'weights':[random() for i in range(n_inputs)]} for i in range(n_hidden)]\n",
    "    output_layer = [{'weights':[random() for i in range(n_hidden)]} for i in range(n_outputs)]\n",
    "    network.append(hidden_layer)\n",
    "    network.append(output_layer)\n",
    "    return network\n",
    "network = initialize_network(2,1,2)"
   ]
  },
  {
   "cell_type": "code",
   "execution_count": 14,
   "id": "9ff95bec",
   "metadata": {},
   "outputs": [],
   "source": [
    "def out_calculate(weights,inputs):\n",
    "    net = 0\n",
    "    for i in range(len(weights)):\n",
    "        net+=weights[i]*inputs[i]\n",
    "    return net\n",
    "\n",
    "def activation(net):\n",
    "    return 1.0/(1.0+exp(-net))\n",
    "\n",
    "def forward_propagation(network,row):\n",
    "    inputs = row\n",
    "    for layer in network:\n",
    "        new_inputs=[]\n",
    "        for neuron in layer:\n",
    "            activate = out_calculate(neuron['weights'],inputs)\n",
    "            neuron['output']=activation(activate)\n",
    "            new_inputs.append(neuron['output'])\n",
    "        inputs=new_inputs\n",
    "    return inputs\n",
    "forward_propagation(network,[1,0])"
   ]
  },
  {
   "cell_type": "code",
   "execution_count": 18,
   "id": "2ea83216",
   "metadata": {},
   "outputs": [
    {
     "data": {
      "text/plain": [
       "[[{'weights': [0.9455097802353822, 0.044681922267236995],\n",
       "   'output': 0.7202112626171201}],\n",
       " [{'weights': [0.39967036411143275], 'output': 0.5714689852661156},\n",
       "  {'weights': [0.08500348828734006], 'output': 0.5153003389681584}]]"
      ]
     },
     "execution_count": 18,
     "metadata": {},
     "output_type": "execute_result"
    }
   ],
   "source": [
    "network"
   ]
  },
  {
   "cell_type": "code",
   "execution_count": 41,
   "id": "d4703997",
   "metadata": {},
   "outputs": [],
   "source": [
    "expected = [0,1]\n",
    "def back_propagate(network, expected):\n",
    "    for i in reversed(range(len(network))):\n",
    "        layer=network[i]\n",
    "        errors=list()\n",
    "        if i!=len(network)-1:\n",
    "            for j in range(len(layer)):\n",
    "                error=0.0\n",
    "                for neuron in network[i+1]:\n",
    "                    error+=(neuron['weights'][j]*neuron['delta'])\n",
    "                    errors.append(error)\n",
    "        else:\n",
    "            for j in range(len(layer)):\n",
    "                neuron = layer[j]\n",
    "                errors.append(neuron['output']-expected[j])\n",
    "        for j in range(len(layer)):\n",
    "            neuron = layer[j]\n",
    "            neuron['delta']=errors[j]*neuron['output']*(1-neuron['output'])\n",
    "back_propagate(network,expected)"
   ]
  },
  {
   "cell_type": "code",
   "execution_count": 42,
   "id": "1ed1099b",
   "metadata": {},
   "outputs": [
    {
     "data": {
      "text/plain": [
       "[[{'weights': [0.9455097802353822, 0.044681922267236995],\n",
       "   'output': 0.7202112626171201,\n",
       "   'delta': 0.008428527735978651}],\n",
       " [{'weights': [0.29887803092932],\n",
       "   'output': 0.5714689852661156,\n",
       "   'delta': 0.139948287972964},\n",
       "  {'weights': [0.17219330580389636],\n",
       "   'output': 0.5153003389681584,\n",
       "   'delta': -0.12106144688674257}]]"
      ]
     },
     "execution_count": 42,
     "metadata": {},
     "output_type": "execute_result"
    }
   ],
   "source": [
    "network"
   ]
  },
  {
   "cell_type": "code",
   "execution_count": 43,
   "id": "09f55565",
   "metadata": {},
   "outputs": [],
   "source": [
    "def update_weights(network, row, l_rate):\n",
    "    for i in range(len(network)):\n",
    "        inputs= row\n",
    "        if i!=0:\n",
    "            inputs = [neuron['output'] for neuron in network[i-1]]\n",
    "        for neuron in network[i]:\n",
    "            for j in range(len(inputs)):\n",
    "                neuron['weights'][j]-=l_rate*neuron['delta']*inputs[j]\n",
    "            neuron['weights'][-1] -= l_rate * neuron['delta']\n",
    "\n",
    "                \n",
    "update_weights(network,[1,0],1)                "
   ]
  },
  {
   "cell_type": "code",
   "execution_count": 44,
   "id": "1bf662ae",
   "metadata": {},
   "outputs": [
    {
     "data": {
      "text/plain": [
       "[[{'weights': [0.9370812524994035, 0.036253394531258344],\n",
       "   'output': 0.7202112626171201,\n",
       "   'delta': 0.008428527735978651}],\n",
       " [{'weights': [0.05813740977424331],\n",
       "   'output': 0.5714689852661156,\n",
       "   'delta': 0.139948287972964},\n",
       "  {'weights': [0.38044457020719524],\n",
       "   'output': 0.5153003389681584,\n",
       "   'delta': -0.12106144688674257}]]"
      ]
     },
     "execution_count": 44,
     "metadata": {},
     "output_type": "execute_result"
    }
   ],
   "source": [
    "network"
   ]
  },
  {
   "cell_type": "code",
   "execution_count": null,
   "id": "e7efbb5b",
   "metadata": {},
   "outputs": [],
   "source": [
    "def train_network(network, train, l_rate, n_epoch, n_outputs):\n",
    "    for epoch in range(n_epoch):\n",
    "        sum_error = 0\n",
    "        for row in train:\n",
    "            outputs = forward_propagate(network, row)\n",
    "            expected = [0 for i in range(n_outputs)]\n",
    "            expected[row[-1]] = 1\n",
    "            sum_error += sum([(expected[i]-outputs[i])**2 for i in range(len(expected))])\n",
    "            backward_propagate_error(network, expected)\n",
    "            update_weights(network, row, l_rate)\n",
    "        print('>epoch=%d, lrate=%.3f, error=%.3f' % (epoch, l_rate, sum_error))"
   ]
  }
 ],
 "metadata": {
  "kernelspec": {
   "display_name": "Python 3 (ipykernel)",
   "language": "python",
   "name": "python3"
  },
  "language_info": {
   "codemirror_mode": {
    "name": "ipython",
    "version": 3
   },
   "file_extension": ".py",
   "mimetype": "text/x-python",
   "name": "python",
   "nbconvert_exporter": "python",
   "pygments_lexer": "ipython3",
   "version": "3.9.7"
  }
 },
 "nbformat": 4,
 "nbformat_minor": 5
}
