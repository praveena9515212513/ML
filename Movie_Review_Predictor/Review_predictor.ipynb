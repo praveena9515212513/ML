{
 "cells": [
  {
   "cell_type": "code",
   "execution_count": 63,
   "id": "93184e26",
   "metadata": {},
   "outputs": [
    {
     "data": {
      "text/html": [
       "<div>\n",
       "<style scoped>\n",
       "    .dataframe tbody tr th:only-of-type {\n",
       "        vertical-align: middle;\n",
       "    }\n",
       "\n",
       "    .dataframe tbody tr th {\n",
       "        vertical-align: top;\n",
       "    }\n",
       "\n",
       "    .dataframe thead th {\n",
       "        text-align: right;\n",
       "    }\n",
       "</style>\n",
       "<table border=\"1\" class=\"dataframe\">\n",
       "  <thead>\n",
       "    <tr style=\"text-align: right;\">\n",
       "      <th></th>\n",
       "      <th>Text</th>\n",
       "      <th>Class</th>\n",
       "    </tr>\n",
       "    <tr>\n",
       "      <th>Examples</th>\n",
       "      <th></th>\n",
       "      <th></th>\n",
       "    </tr>\n",
       "  </thead>\n",
       "  <tbody>\n",
       "    <tr>\n",
       "      <th>1</th>\n",
       "      <td>I loved the movie</td>\n",
       "      <td>positive</td>\n",
       "    </tr>\n",
       "    <tr>\n",
       "      <th>2</th>\n",
       "      <td>I hated the movie</td>\n",
       "      <td>negative</td>\n",
       "    </tr>\n",
       "    <tr>\n",
       "      <th>3</th>\n",
       "      <td>a great movie. good movie</td>\n",
       "      <td>positive</td>\n",
       "    </tr>\n",
       "    <tr>\n",
       "      <th>4</th>\n",
       "      <td>poor acting</td>\n",
       "      <td>negative</td>\n",
       "    </tr>\n",
       "    <tr>\n",
       "      <th>5</th>\n",
       "      <td>great acting. good movie</td>\n",
       "      <td>positive</td>\n",
       "    </tr>\n",
       "  </tbody>\n",
       "</table>\n",
       "</div>"
      ],
      "text/plain": [
       "                               Text     Class\n",
       "Examples                                     \n",
       "1                 I loved the movie  positive\n",
       "2                 I hated the movie  negative\n",
       "3         a great movie. good movie  positive\n",
       "4                       poor acting  negative\n",
       "5          great acting. good movie  positive"
      ]
     },
     "execution_count": 63,
     "metadata": {},
     "output_type": "execute_result"
    }
   ],
   "source": [
    "import pandas as pd\n",
    "import numpy as np\n",
    "df = pd.read_csv('movie_review.csv')\n",
    "df.set_index('Examples',inplace=True)\n",
    "df"
   ]
  },
  {
   "cell_type": "code",
   "execution_count": 79,
   "id": "8fd2a069",
   "metadata": {},
   "outputs": [
    {
     "name": "stderr",
     "output_type": "stream",
     "text": [
      "C:\\Users\\y20cs19\\AppData\\Local\\Temp/ipykernel_10356/1408974072.py:3: FutureWarning: The default value of regex will change from True to False in a future version. In addition, single character regular expressions will *not* be treated as literal strings when regex=True.\n",
      "  df['Text']=df['Text'].str.replace(i,'')\n"
     ]
    }
   ],
   "source": [
    "punc = ['.',',','?','!']\n",
    "for i in punc:\n",
    "    df['Text']=df['Text'].str.replace(i,'')"
   ]
  },
  {
   "cell_type": "code",
   "execution_count": 65,
   "id": "23db0169",
   "metadata": {},
   "outputs": [
    {
     "data": {
      "text/html": [
       "<div>\n",
       "<style scoped>\n",
       "    .dataframe tbody tr th:only-of-type {\n",
       "        vertical-align: middle;\n",
       "    }\n",
       "\n",
       "    .dataframe tbody tr th {\n",
       "        vertical-align: top;\n",
       "    }\n",
       "\n",
       "    .dataframe thead th {\n",
       "        text-align: right;\n",
       "    }\n",
       "</style>\n",
       "<table border=\"1\" class=\"dataframe\">\n",
       "  <thead>\n",
       "    <tr style=\"text-align: right;\">\n",
       "      <th></th>\n",
       "      <th>Text</th>\n",
       "      <th>Class</th>\n",
       "    </tr>\n",
       "    <tr>\n",
       "      <th>Examples</th>\n",
       "      <th></th>\n",
       "      <th></th>\n",
       "    </tr>\n",
       "  </thead>\n",
       "  <tbody>\n",
       "    <tr>\n",
       "      <th>1</th>\n",
       "      <td>I loved the movie</td>\n",
       "      <td>positive</td>\n",
       "    </tr>\n",
       "    <tr>\n",
       "      <th>2</th>\n",
       "      <td>I hated the movie</td>\n",
       "      <td>negative</td>\n",
       "    </tr>\n",
       "    <tr>\n",
       "      <th>3</th>\n",
       "      <td>a great movie good movie</td>\n",
       "      <td>positive</td>\n",
       "    </tr>\n",
       "    <tr>\n",
       "      <th>4</th>\n",
       "      <td>poor acting</td>\n",
       "      <td>negative</td>\n",
       "    </tr>\n",
       "    <tr>\n",
       "      <th>5</th>\n",
       "      <td>great acting good movie</td>\n",
       "      <td>positive</td>\n",
       "    </tr>\n",
       "  </tbody>\n",
       "</table>\n",
       "</div>"
      ],
      "text/plain": [
       "                              Text     Class\n",
       "Examples                                    \n",
       "1                I loved the movie  positive\n",
       "2                I hated the movie  negative\n",
       "3         a great movie good movie  positive\n",
       "4                      poor acting  negative\n",
       "5          great acting good movie  positive"
      ]
     },
     "execution_count": 65,
     "metadata": {},
     "output_type": "execute_result"
    }
   ],
   "source": [
    "df"
   ]
  },
  {
   "cell_type": "code",
   "execution_count": 67,
   "id": "022c89f4",
   "metadata": {},
   "outputs": [],
   "source": [
    "m=df.shape[0]\n",
    "vocab=[]\n",
    "positive_vocab=[]\n",
    "negative_vocab=[]\n",
    "for i in range(1,m+1):\n",
    "    if(df.loc[i]['Class']=='positive'):\n",
    "        positive_vocab.extend(df.loc[i]['Text'].split())\n",
    "    elif(df.loc[i]['Class']=='negative'):\n",
    "        negative_vocab.extend(df.loc[i]['Text'].split())\n",
    "    p=df.loc[i]['Text'].split()\n",
    "    for j in range(len(p)):\n",
    "        if p[j] not in vocab:\n",
    "            vocab.append(p[j])"
   ]
  },
  {
   "cell_type": "code",
   "execution_count": 68,
   "id": "8720c3f2",
   "metadata": {},
   "outputs": [],
   "source": [
    "prob_positive=df[df['Class']=='positive'].shape[0]/df.shape[0]\n",
    "prob_negative=df[df['Class']=='negative'].shape[0]/df.shape[0]"
   ]
  },
  {
   "cell_type": "code",
   "execution_count": 69,
   "id": "91eadc38",
   "metadata": {},
   "outputs": [
    {
     "name": "stdout",
     "output_type": "stream",
     "text": [
      "Enter the text:\n",
      "GOOD\n",
      "Positive review\n"
     ]
    }
   ],
   "source": [
    "print(\"Enter the text:\")\n",
    "text =[x for x in input().split()]\n",
    "for i in text:\n",
    "    prob_positive *= (positive_vocab.count(i)+1)/(len(positive_vocab)+len(vocab))\n",
    "    prob_negative *= (negative_vocab.count(i)+1)/(len(negative_vocab)+len(vocab))\n",
    "if(prob_positive>prob_negative):\n",
    "    print(\"Positive review\")\n",
    "else:\n",
    "    print(\"Negative review\")\n",
    "    "
   ]
  }
 ],
 "metadata": {
  "kernelspec": {
   "display_name": "Python 3 (ipykernel)",
   "language": "python",
   "name": "python3"
  },
  "language_info": {
   "codemirror_mode": {
    "name": "ipython",
    "version": 3
   },
   "file_extension": ".py",
   "mimetype": "text/x-python",
   "name": "python",
   "nbconvert_exporter": "python",
   "pygments_lexer": "ipython3",
   "version": "3.9.7"
  }
 },
 "nbformat": 4,
 "nbformat_minor": 5
}
